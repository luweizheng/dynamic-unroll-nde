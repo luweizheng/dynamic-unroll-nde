{
 "cells": [
  {
   "cell_type": "code",
   "execution_count": 29,
   "metadata": {},
   "outputs": [],
   "source": [
    "import numpy as np\n",
    "\n",
    "import xgboost as xgb\n",
    "from xgboost import plot_importance\n",
    "import matplotlib.pyplot as plt\n",
    "from sklearn.model_selection import train_test_split\n",
    "\n",
    "from sklearn.metrics import mean_squared_error"
   ]
  },
  {
   "cell_type": "code",
   "execution_count": 30,
   "metadata": {},
   "outputs": [],
   "source": [
    "# 读取文件原始数据\n",
    "data = []\n",
    "labels = []\n",
    "\n",
    "with open(\"../synthetic/logs/mu.csv\", encoding='UTF-8') as fileObject:\n",
    "    for line in fileObject:\n",
    "        line_split = line.split(',')\n",
    "        features = [line_split[0], line_split[1], line_split[2], line_split[3], line_split[4], line_split[6], line_split[7], line_split[8]]\n",
    "        data.append(features)\n",
    "        labels.append([line_split[-2], line_split[-1]])\n",
    "        # run_labels.append(line_split[-1])\n",
    "\n",
    "X = []\n",
    "for row in data:\n",
    "    row = [float(x) for x in row]\n",
    "    X.append(row)\n",
    "\n",
    "y = np.array([[float(x[0]), float(x[1])] for x in labels])\n",
    "\n",
    "\n",
    "# train cost model\n",
    "X_train, X_test, y_train, y_test = train_test_split(X, y, \n",
    "                                                    test_size=0.1, \n",
    "                                                    random_state=0)\n",
    "\n",
    "# print(type(y_train))"
   ]
  },
  {
   "cell_type": "code",
   "execution_count": 31,
   "metadata": {},
   "outputs": [
    {
     "name": "stdout",
     "output_type": "stream",
     "text": [
      "3.9659024405618726\n"
     ]
    }
   ],
   "source": [
    "compile_model = xgb.XGBRegressor(n_estimators=200, \n",
    "                         learning_rate=0.05, \n",
    "                         max_depth=15, \n",
    "                         objective='reg:squarederror')\n",
    "compile_model.fit(X_train, y_train[:, 0])\n",
    "\n",
    "\n",
    "# 对测试集进行预测\n",
    "compile_ans = compile_model.predict(X_test)\n",
    "\n",
    "print(mean_squared_error(y_test[:, 0], compile_ans))"
   ]
  },
  {
   "cell_type": "code",
   "execution_count": 32,
   "metadata": {},
   "outputs": [
    {
     "name": "stdout",
     "output_type": "stream",
     "text": [
      "117.17216717095481\n"
     ]
    }
   ],
   "source": [
    "run_model = xgb.XGBRegressor(n_estimators=100, \n",
    "                         learning_rate=0.05, \n",
    "                         max_depth=10, \n",
    "                         objective='reg:squarederror')\n",
    "run_model.fit(X_train, y_train[:, 1])\n",
    "\n",
    "run_ans = run_model.predict(X_test)\n",
    "print(mean_squared_error(y_test[:, 1], run_ans))"
   ]
  },
  {
   "cell_type": "code",
   "execution_count": 33,
   "metadata": {},
   "outputs": [
    {
     "data": {
      "image/png": "[encoded data removed]",
      "text/plain": [
       "<Figure size 432x288 with 1 Axes>"
      ]
     },
     "metadata": {
      "needs_background": "light"
     },
     "output_type": "display_data"
    }
   ],
   "source": [
    "#  显示重要特征\n",
    "plot_importance(compile_model)\n",
    "plt.show()"
   ]
  },
  {
   "cell_type": "code",
   "execution_count": 34,
   "metadata": {},
   "outputs": [
    {
     "data": {
      "image/png": "[encoded data removed]",
      "text/plain": [
       "<Figure size 432x288 with 1 Axes>"
      ]
     },
     "metadata": {
      "needs_background": "light"
     },
     "output_type": "display_data"
    }
   ],
   "source": [
    "#  显示重要特征\n",
    "plot_importance(run_model)\n",
    "plt.show()"
   ]
  },
  {
   "cell_type": "code",
   "execution_count": 35,
   "metadata": {},
   "outputs": [
    {
     "name": "stdout",
     "output_type": "stream",
     "text": [
      "[1.68163]\n",
      "[19.506165]\n"
     ]
    }
   ],
   "source": [
    "neural_sde_test = [[0.000190458,7.5042e-05,0.39400812777620264,0.036624,64,6,128,1]]\n",
    "neural_sde_label = [2.430105447769165,20.74631690979004]\n",
    "\n",
    "pred_compile_time1 = compile_model.predict(neural_sde_test)\n",
    "pred_run_time1 = run_model.predict(neural_sde_test)\n",
    "print(pred_compile_time1)\n",
    "print(pred_run_time1)"
   ]
  },
  {
   "cell_type": "code",
   "execution_count": 39,
   "metadata": {},
   "outputs": [
    {
     "name": "stdout",
     "output_type": "stream",
     "text": [
      "[21.261456]\n",
      "[17.922543]\n",
      "[13.282851]\n",
      "[14.100174]\n",
      "[22.045391]\n",
      "[22.487106]\n",
      "[2.9511864]\n",
      "[19.460773]\n"
     ]
    }
   ],
   "source": [
    "latent_sde_test = [[0.000439754,0.000182594,0.41521850852976894,0.089632,32,6,128,32]]\n",
    "latent_sde_label = [22.388781785964966,12.347295045852661]\n",
    "\n",
    "pred_compile_time2 = compile_model.predict(latent_sde_test)\n",
    "pred_run_time2 = run_model.predict(latent_sde_test)\n",
    "print(pred_compile_time2)\n",
    "print(pred_run_time2)\n",
    "\n",
    "# sde mu sigma\n",
    "latent_sde_test = [[0.000439754,0.000182594,0.41521850852976894,0.089632,32,6,128,20]]\n",
    "latent_sde_label = [17.031641244888306,13.110759735107422]\n",
    "pred_compile_time2 = compile_model.predict(latent_sde_test)\n",
    "pred_run_time2 = run_model.predict(latent_sde_test)\n",
    "print(pred_compile_time2)\n",
    "print(pred_run_time2)\n",
    "\n",
    "# sde mu sigma\n",
    "latent_sde_test = [[0.00146643,0.000695362,0.47418697107942426,0.346912,32,6,128,31]]\n",
    "latent_sde_label = [21.482573986053467,22.15334725379944]\n",
    "pred_compile_time2 = compile_model.predict(latent_sde_test)\n",
    "pred_run_time2 = run_model.predict(latent_sde_test)\n",
    "print(pred_compile_time2)\n",
    "print(pred_run_time2)\n",
    "\n",
    "# fbsde\n",
    "latent_sde_test = [[2.7026e-05,5.399e-06,0.19977059128246877,0.001121,16,4,128,1]]\n",
    "latent_sde_label = [2.253880023956299,17.312966108322144]\n",
    "pred_compile_time2 = compile_model.predict(latent_sde_test)\n",
    "pred_run_time2 = run_model.predict(latent_sde_test)\n",
    "print(pred_compile_time2)\n",
    "print(pred_run_time2)"
   ]
  },
  {
   "cell_type": "code",
   "execution_count": 37,
   "metadata": {},
   "outputs": [
    {
     "name": "stdout",
     "output_type": "stream",
     "text": [
      "[13.039078   21.93074465  2.34981751  1.19350553  1.27915764  1.19540644\n",
      " 21.10855842  4.24903226 10.45450139  4.45493841 33.77697301  1.10424948\n",
      "  1.45637465 19.74155402  9.55447435 36.00845647  1.59087133  1.35268474\n",
      "  1.23174214 15.5093894   1.39013743  9.98745918  2.99759293  2.30087113\n",
      "  6.24570394  8.82740259  1.15818214  1.5707705  20.00196362  5.21552706\n",
      "  2.27069354  4.07148647 35.25535679 21.48257399 17.86886954 15.46092367\n",
      "  1.85263252 35.14461541  3.4754045  18.62995315  4.41498756  1.68956661\n",
      "  3.74939108  0.78800249 23.62263107  1.52795172  1.36409211 25.61478138\n",
      "  9.56006098 10.60192323 10.35458994 10.57886481  6.99135828 14.20672774\n",
      "  7.1671946  16.75870371  8.83001781  4.45967984 10.20679212  1.1749115\n",
      " 35.61329627  2.63209295  1.1431582   5.41011524  4.74655652  5.8123982\n",
      " 10.11259794 12.22671509  6.05461597 37.73341942 21.51194692 10.67767787\n",
      " 19.90308046 34.58404756  1.54409242]\n",
      "[15.6849494  13.03404593  6.3199048   9.47989392 22.57146597  9.562711\n",
      " 12.88394737  6.76085377 16.3789041   7.37703395 37.47593498 15.46001029\n",
      " 20.93934822 13.20939994  8.42424893 76.46834612 20.97497559 20.22360301\n",
      " 17.7586484   8.98302841 32.10656762 12.59579396 31.64712954  9.35353231\n",
      " 38.02632904 24.48468709 10.17328739 12.5519135  19.41508603 32.525846\n",
      "  6.46013951 36.2142148  17.84408092 22.15334725 48.71266103 11.46302533\n",
      " 76.91281033 23.48313189 18.77323198 14.69626904 12.63579369 41.88981438\n",
      "  9.50026035  8.49457335 12.67337179 25.076231   27.93441987 36.9371953\n",
      " 14.69356418 12.48365641 15.00272894 10.07799101 19.07229424 36.53486323\n",
      " 10.62051582 19.11600971 51.22842193 19.03704977 39.50447226 18.95552468\n",
      " 37.82667637  8.53333807  9.57965612 19.85909748 25.38337874 32.18418646\n",
      " 17.771173   37.76331258 18.19593525 22.94855237 10.84677172 24.87847495\n",
      " 18.68588638 22.32833004 38.59070063]\n"
     ]
    }
   ],
   "source": [
    "print(y_test[:, 0])\n",
    "print(y_test[:, 1])"
   ]
  },
  {
   "cell_type": "code",
   "execution_count": 38,
   "metadata": {},
   "outputs": [
    {
     "name": "stdout",
     "output_type": "stream",
     "text": [
      "[21.232342]\n",
      "[17.92159]\n"
     ]
    }
   ],
   "source": [
    "latent_sde_test = [[0.000504926,0.000209794,0.4154945477159029,0.10336,64,6,128,31]]\n",
    "latent_sde_label = [21.239548444747925,18.208513021469116]\n",
    "\n",
    "pred_compile_time2 = compile_model.predict(latent_sde_test)\n",
    "pred_run_time2 = run_model.predict(latent_sde_test)\n",
    "print(pred_compile_time2)\n",
    "print(pred_run_time2)"
   ]
  },
  {
   "cell_type": "code",
   "execution_count": null,
   "metadata": {},
   "outputs": [],
   "source": []
  }
 ],
 "metadata": {
  "interpreter": {
   "hash": "3aa1faf8dda839bbdc902e17997852956909f92e1474e5a5c9d8cca37dc72c64"
  },
  "kernelspec": {
   "display_name": "Python 3.10.4 ('jax': conda)",
   "language": "python",
   "name": "python3"
  },
  "language_info": {
   "codemirror_mode": {
    "name": "ipython",
    "version": 3
   },
   "file_extension": ".py",
   "mimetype": "text/x-python",
   "name": "python",
   "nbconvert_exporter": "python",
   "pygments_lexer": "ipython3",
   "version": "3.10.4"
  },
  "orig_nbformat": 4
 },
 "nbformat": 4,
 "nbformat_minor": 2
}
