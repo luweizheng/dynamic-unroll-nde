{
 "cells": [
  {
   "cell_type": "code",
   "execution_count": 1,
   "metadata": {},
   "outputs": [],
   "source": [
    "import matplotlib.pyplot as plt\n",
    "import seaborn as sns\n",
    "import matplotlib\n",
    "# matplotlib.rcParams['font.sans-serif'] = ['SimHei']\n",
    "matplotlib.rcParams['axes.unicode_minus']=False"
   ]
  },
  {
   "cell_type": "code",
   "execution_count": 2,
   "metadata": {},
   "outputs": [
    {
     "name": "stdout",
     "output_type": "stream",
     "text": [
      "[1, 10, 20, 50, 100]\n",
      "[2.6307990550994873, 7.55957293510437, 15.213261604309082, 41.15185594558716, 127.54430794715881]\n"
     ]
    }
   ],
   "source": [
    "# read data manually\n",
    "def parse_unroll_file(filepath):\n",
    "    unroll_list = []\n",
    "    compile_time = []\n",
    "    exe_time = []\n",
    "    want_to_show = [1, 10, 20, 50, 100]\n",
    "    with open(filepath,'r') as file:\n",
    "        next(file)  # 跳过第一行\n",
    "        lines = file.readlines()\n",
    "        for line in lines:\n",
    "            metrics = line.split(',')\n",
    "            if len(metrics) != 3:\n",
    "                print(\"file should have 4 columns\")\n",
    "                exit()\n",
    "            unroll = int(metrics[0].strip())\n",
    "            # make sure unroll is divisible\n",
    "            if unroll in want_to_show:\n",
    "                unroll_list.append(unroll)\n",
    "                compile_time.append(float(metrics[1].strip()))\n",
    "                exe_time.append(float(metrics[2].strip()))\n",
    "\n",
    "    \n",
    "    return unroll_list, compile_time, exe_time\n",
    "\n",
    "v100_unroll, v100_compile_time, v100_exe_time = parse_unroll_file(\"../data/mlp_tesla.csv\")\n",
    "titan_unroll, titan_compile_time, titan_exe_time = parse_unroll_file(\"../data/mlp_titan.csv\")\n",
    "print(v100_unroll)\n",
    "print(titan_compile_time)"
   ]
  },
  {
   "cell_type": "code",
   "execution_count": 5,
   "metadata": {},
   "outputs": [
    {
     "data": {
      "image/png": "[encoded data removed]",
      "text/plain": [
       "<Figure size 216x216 with 1 Axes>"
      ]
     },
     "metadata": {
      "needs_background": "light"
     },
     "output_type": "display_data"
    }
   ],
   "source": [
    "# (5, 3): control the figure size\n",
    "fig, ax = plt.subplots(figsize=(3, 3))\n",
    "\n",
    "# v100_unroll: x axis\n",
    "# v100_compile_time: y axis\n",
    "# 'o-': circle datapoint with line, 'v-': triangle datapoint with line\n",
    "# label: Labels for future legend ploting\n",
    "ax.plot(v100_unroll, v100_compile_time, 'o-', color=\"#D95319\", linewidth=1, label='V100')\n",
    "ax.plot(titan_unroll, titan_compile_time, 'v-', color=\"#0072BD\", linewidth=1, label='Titan')\n",
    "\n",
    "# only show the ticks that in unroll list\n",
    "# set_xticks is for the position or coordinates\n",
    "# set_xticklabels is for the label name\n",
    "ax.set_xticks(v100_unroll)\n",
    "ax.set_xticklabels(v100_unroll)\n",
    "\n",
    "ax.set_xlabel('Unroll Factor')\n",
    "ax.set_ylabel('Compile Time(s)')\n",
    "\n",
    "plt.savefig('../pics/mlp_cpt_jax.pdf', format='pdf', dpi=300, pad_inches = 0, bbox_inches='tight')\n",
    "plt.show()"
   ]
  },
  {
   "cell_type": "code",
   "execution_count": 6,
   "metadata": {},
   "outputs": [
    {
     "data": {
      "image/png": "[encoded data removed]",
      "text/plain": [
       "<Figure size 216x216 with 1 Axes>"
      ]
     },
     "metadata": {
      "needs_background": "light"
     },
     "output_type": "display_data"
    }
   ],
   "source": [
    "fig, ax = plt.subplots(figsize=(3, 3))\n",
    "\n",
    "ax.plot(v100_unroll, v100_exe_time, 'o-', color=\"#D95319\", linewidth=1, label='V100')\n",
    "ax.plot(titan_unroll, titan_exe_time, 'v-', color=\"#0072BD\", linewidth=1, label='Titan')\n",
    "\n",
    "ax.set_xticks(v100_unroll)\n",
    "ax.set_xticklabels(v100_unroll)\n",
    "\n",
    "ax.set_xlabel('Unroll Factor')\n",
    "ax.set_ylabel('Execution Time(s)')\n",
    "\n",
    "ax.set_ylim(1e2, 1e3)\n",
    "plt.savefig('../pics/mlp_ext_jax.pdf', format='pdf', dpi=300, pad_inches = 0, bbox_inches='tight')\n",
    "plt.show()"
   ]
  },
  {
   "cell_type": "code",
   "execution_count": null,
   "metadata": {},
   "outputs": [],
   "source": []
  }
 ],
 "metadata": {
  "kernelspec": {
   "display_name": "Python 3.9.0 ('mindspore_py39': conda)",
   "language": "python",
   "name": "python3"
  },
  "language_info": {
   "codemirror_mode": {
    "name": "ipython",
    "version": 3
   },
   "file_extension": ".py",
   "mimetype": "text/x-python",
   "name": "python",
   "nbconvert_exporter": "python",
   "pygments_lexer": "ipython3",
   "version": "3.9.0"
  },
  "vscode": {
   "interpreter": {
    "hash": "56630121e6b11114c96cc5687e72881bc282c0e6254df5eb3e78ce43ee5adc35"
   }
  }
 },
 "nbformat": 4,
 "nbformat_minor": 2
}
